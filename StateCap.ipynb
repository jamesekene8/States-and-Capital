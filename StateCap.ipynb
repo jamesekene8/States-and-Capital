{
 "cells": [
  {
   "cell_type": "code",
   "execution_count": 1,
   "metadata": {},
   "outputs": [],
   "source": [
    "import requests\n",
    "from bs4 import BeautifulSoup\n",
    "import random\n",
    "import smtplib\n",
    "import os\n",
    "from email.message import EmailMessage\n",
    "import docx\n",
    "import pandas as pd"
   ]
  },
  {
   "cell_type": "code",
   "execution_count": 2,
   "metadata": {},
   "outputs": [],
   "source": [
    "state_cap = requests.get(\"https://en.wikipedia.org/wiki/List_of_capitals_of_states_of_Nigeria\", 'lxml')\n",
    "souped = BeautifulSoup(state_cap.text)"
   ]
  },
  {
   "cell_type": "code",
   "execution_count": 3,
   "metadata": {},
   "outputs": [],
   "source": [
    "stat_nig = []\n",
    "cap_nig = []"
   ]
  },
  {
   "cell_type": "code",
   "execution_count": 4,
   "metadata": {},
   "outputs": [],
   "source": [
    "for x in range(0,72,2):\n",
    "    stat_nig.append(souped.findAll('table', class_=\"wikitable\")[0].findAll('tbody')[0].findAll('td')[x].findAll('a')[0].text)\n",
    "    cap_nig.append(souped.findAll('table', class_=\"wikitable\")[0].findAll('tbody')[0].findAll('td')[x+1].findAll('a')[0].text)"
   ]
  },
  {
   "cell_type": "code",
   "execution_count": 6,
   "metadata": {},
   "outputs": [],
   "source": [
    "state_cap = dict(zip(stat_nig, cap_nig))"
   ]
  },
  {
   "cell_type": "code",
   "execution_count": 7,
   "metadata": {},
   "outputs": [],
   "source": [
    "#state, capital = random.choice(list(state_cap.items()))"
   ]
  },
  {
   "cell_type": "code",
   "execution_count": 8,
   "metadata": {},
   "outputs": [],
   "source": [
    "smtp = smtplib.SMTP_SSL('smtp.gmail.com', 465)\n",
    "username = os.environ.get('User_name')\n",
    "user_password = os.environ.get('User_password')"
   ]
  },
  {
   "cell_type": "code",
   "execution_count": 9,
   "metadata": {},
   "outputs": [],
   "source": [
    "stud = pd.read_csv('Students_contact.csv')"
   ]
  },
  {
   "cell_type": "code",
   "execution_count": 10,
   "metadata": {},
   "outputs": [],
   "source": [
    "def questPapers(studentName, email):\n",
    "    doc = docx.Document()\n",
    "    ansDoc = docx.Document()\n",
    "    doc.add_heading(f'This question is for {studentName}', 2)\n",
    "    states = random.sample(list(state_cap.keys()), 21)\n",
    "    for i in range(1, 21):\n",
    "        doc.add_paragraph(f'Question {i}:')\n",
    "        doc.add_paragraph(f'What is the capital of {states[i]}')\n",
    "        answer = state_cap[states[i]]\n",
    "        opt = [answer]\n",
    "        letter = ['A', 'B', 'C', 'D']\n",
    "        for el in range(4):\n",
    "            opt.append(random.choice(list(state_cap.values())))\n",
    "            if len(opt) != len(set(opt)):\n",
    "                opt = set(opt)\n",
    "                opt = list(opt)\n",
    "                opt.append(random.choice(list(state_cap.values())))\n",
    "        opt.pop()\n",
    "        random.shuffle(opt)\n",
    "        t_opt = dict(zip(letter, opt))\n",
    "        oopt = letter[opt.index(answer)]\n",
    "        ansDoc.add_paragraph(f'The answer to question {i} is: {oopt}')\n",
    "        for options, value in t_opt.items():\n",
    "            doc.add_paragraph(f'{options}) {value} ')\n",
    "            doc.add_paragraph('\\n')    \n",
    "            doc.save('testttttt.docx')\n",
    "    ansDoc.save('answers.docx')\n",
    "    msg = EmailMessage()\n",
    "    msg['TO'] = email\n",
    "    msg['From'] = username\n",
    "    msg['Subject'] = 'This is your question'\n",
    "    msg.set_content ('''Enjoy these questions''')\n",
    "    with open('testttttt.docx', 'rb') as f:\n",
    "        content = f.read()\n",
    "        name = f.name\n",
    "        msg.add_attachment(content, maintype='application', subtype ='msword', filename=name)\n",
    "    with open('answers.docx', 'rb') as g:\n",
    "        acontent = g.read()\n",
    "        aname = g.name\n",
    "        msg.add_attachment(acontent, maintype=\"application\" ,subtype='msword', filename=aname)\n",
    "    with smtplib.SMTP_SSL('smtp.gmail.com', 465) as smtp:\n",
    "        smtp.login(username, user_password)\n",
    "        smtp.send_message(msg)"
   ]
  },
  {
   "cell_type": "code",
   "execution_count": 11,
   "metadata": {},
   "outputs": [],
   "source": [
    "for row in stud.itertuples(index=True, name='Pandas'):\n",
    "    questPapers(row.NAME, row.EMAIL)"
   ]
  },
  {
   "cell_type": "code",
   "execution_count": null,
   "metadata": {},
   "outputs": [],
   "source": []
  }
 ],
 "metadata": {
  "kernelspec": {
   "display_name": "Python 3",
   "language": "python",
   "name": "python3"
  },
  "language_info": {
   "codemirror_mode": {
    "name": "ipython",
    "version": 3
   },
   "file_extension": ".py",
   "mimetype": "text/x-python",
   "name": "python",
   "nbconvert_exporter": "python",
   "pygments_lexer": "ipython3",
   "version": "3.7.6"
  }
 },
 "nbformat": 4,
 "nbformat_minor": 4
}
